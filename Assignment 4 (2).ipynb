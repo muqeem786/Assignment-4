{
 "cells": [
  {
   "cell_type": "code",
   "execution_count": 2,
   "id": "6d326ca3-1b5c-497e-896c-18171c56ae78",
   "metadata": {},
   "outputs": [],
   "source": [
    "# Question1- Which keyword is used to create a function ? Create a function to return a list of odd numbers in the range 1 to 24."
   ]
  },
  {
   "cell_type": "code",
   "execution_count": 5,
   "id": "fd17bbdb-301d-4da6-b2e9-9cd098ed6bcb",
   "metadata": {},
   "outputs": [],
   "source": [
    "#Answer - def test() : keyword is used to create a function\n",
    "l = list(range(1,26))"
   ]
  },
  {
   "cell_type": "code",
   "execution_count": 6,
   "id": "c4e43b20-091c-498d-adc6-43c7c8d3ffa6",
   "metadata": {},
   "outputs": [
    {
     "data": {
      "text/plain": [
       "[1,\n",
       " 2,\n",
       " 3,\n",
       " 4,\n",
       " 5,\n",
       " 6,\n",
       " 7,\n",
       " 8,\n",
       " 9,\n",
       " 10,\n",
       " 11,\n",
       " 12,\n",
       " 13,\n",
       " 14,\n",
       " 15,\n",
       " 16,\n",
       " 17,\n",
       " 18,\n",
       " 19,\n",
       " 20,\n",
       " 21,\n",
       " 22,\n",
       " 23,\n",
       " 24,\n",
       " 25]"
      ]
     },
     "execution_count": 6,
     "metadata": {},
     "output_type": "execute_result"
    }
   ],
   "source": [
    "l"
   ]
  },
  {
   "cell_type": "code",
   "execution_count": 13,
   "id": "8dadd261-7ac8-46ef-b95d-82d11d66bcde",
   "metadata": {},
   "outputs": [],
   "source": [
    "def test ():\n",
    "    for i in l :\n",
    "        if i % 2 != 0:\n",
    "            print(i,end=\" \")\n",
    "    \n",
    "                 \n",
    "        "
   ]
  },
  {
   "cell_type": "code",
   "execution_count": 16,
   "id": "ffdfbd20-4ccf-4a1d-a3be-0c101c950020",
   "metadata": {},
   "outputs": [
    {
     "name": "stdout",
     "output_type": "stream",
     "text": [
      "1 3 5 7 9 11 13 15 17 19 21 23 25 "
     ]
    }
   ],
   "source": [
    "test()"
   ]
  },
  {
   "cell_type": "code",
   "execution_count": 17,
   "id": "4afcc63e-effb-4e52-b588-93d23a45a6b5",
   "metadata": {},
   "outputs": [],
   "source": [
    "# Question2- Why *args and **kwargs is used in some functions? Create a function each for *args and **kwargs to demonstrate their use."
   ]
  },
  {
   "cell_type": "code",
   "execution_count": 18,
   "id": "3b5e9de4-1038-4135-a3ea-280a2cc34b45",
   "metadata": {},
   "outputs": [],
   "source": [
    "#Answer- *args are used to store n number of argument you can pass inside a function and they kept in the form of tuple \n",
    "# **kwargs are used to store n number of data in the dictionary form.  "
   ]
  },
  {
   "cell_type": "code",
   "execution_count": 21,
   "id": "12d6ef08-59fd-4e96-a70f-269307ae7393",
   "metadata": {},
   "outputs": [],
   "source": [
    "# Example of *args\n",
    "def test1(*args):\n",
    "    return args"
   ]
  },
  {
   "cell_type": "code",
   "execution_count": 22,
   "id": "f76e4e2b-89f3-4874-8ca1-9dc49f3acaef",
   "metadata": {},
   "outputs": [
    {
     "data": {
      "text/plain": [
       "(1, 2, 3, 4, 'muqeem', 'uddin', [2, 3, 4, 5])"
      ]
     },
     "execution_count": 22,
     "metadata": {},
     "output_type": "execute_result"
    }
   ],
   "source": [
    "test1(1,2,3,4,\"muqeem\",\"uddin\",[2,3,4,5])"
   ]
  },
  {
   "cell_type": "code",
   "execution_count": 23,
   "id": "294baf9d-5aab-425e-aeae-cdbde70b3e01",
   "metadata": {},
   "outputs": [],
   "source": [
    "# Example of **kwargs\n",
    "def test2(**kwargs):\n",
    "    return kwargs"
   ]
  },
  {
   "cell_type": "code",
   "execution_count": 25,
   "id": "9ebe4956-e6f1-4249-8eb2-6e7baa582313",
   "metadata": {},
   "outputs": [
    {
     "data": {
      "text/plain": [
       "{'a': [1, 2, 3, 4, 4], 'b': 'muqeem', 'c': 23.234}"
      ]
     },
     "execution_count": 25,
     "metadata": {},
     "output_type": "execute_result"
    }
   ],
   "source": [
    "test2(a = [1,2,3,4,4],b = \"muqeem\",c = 23.234)"
   ]
  },
  {
   "cell_type": "code",
   "execution_count": 26,
   "id": "28bac390-880c-44b5-bce1-e0e5aa14a1e8",
   "metadata": {},
   "outputs": [],
   "source": [
    "# Question 3- What is an iterator in python ? Name the method used to initialise the iterator object and the the method used for iteration . Used these method to print the first five element of the given list [2,4,6,8,10,1,2,14,16,18,20]."
   ]
  },
  {
   "cell_type": "code",
   "execution_count": 34,
   "id": "c450c10c-f7ac-4f74-b93d-689cffbacf5c",
   "metadata": {},
   "outputs": [
    {
     "name": "stdout",
     "output_type": "stream",
     "text": [
      "0\n",
      "2\n",
      "4\n",
      "6\n",
      "8\n"
     ]
    }
   ],
   "source": [
    "#Answer - Iterator is an object that contains a countable number of values.the iterate over iterable object like lists , tuples,dicts and sets.\n",
    "# _init_() are used to initialise the iterator object \n",
    "#_iter_() and _next_() are used for iteration\n",
    "l = [0,2,4,6,8,10,12,14,16,18,20]\n",
    "myit = iter(l)\n",
    "print(next(myit))\n",
    "print(next(myit))\n",
    "print(next(myit))\n",
    "print(next(myit))\n",
    "print(next(myit))\n",
    "\n"
   ]
  },
  {
   "cell_type": "code",
   "execution_count": 1,
   "id": "cd0b8abd-2a08-42be-a007-b7fdb744148f",
   "metadata": {},
   "outputs": [],
   "source": [
    "# Question 4 - What is a generator function in python? Why yield keyword is used ? Give an example of generator function"
   ]
  },
  {
   "cell_type": "code",
   "execution_count": 3,
   "id": "d6c8f42a-f45a-4762-ad91-4571c9f80eb2",
   "metadata": {},
   "outputs": [],
   "source": [
    "#Answer - In Python,a generator is a function that return an iterator that produce a sequence of values when iterated over\n",
    "# the yield keyword is used to produce a value from the generator.\n",
    "# Example\n",
    "def test_fib(n):\n",
    "    a,b = 0,1\n",
    "    for i in range(n):\n",
    "        yield a \n",
    "        a,b = b,a+b\n",
    "\n"
   ]
  },
  {
   "cell_type": "code",
   "execution_count": 4,
   "id": "c3a7463d-811e-49b7-abb2-6b75e1da5fef",
   "metadata": {},
   "outputs": [
    {
     "name": "stdout",
     "output_type": "stream",
     "text": [
      "0\n",
      "1\n",
      "1\n",
      "2\n",
      "3\n",
      "5\n",
      "8\n",
      "13\n",
      "21\n",
      "34\n"
     ]
    }
   ],
   "source": [
    "for i in test_fib(10):\n",
    "    print(i)"
   ]
  },
  {
   "cell_type": "code",
   "execution_count": 6,
   "id": "be455348-259d-44ce-ae87-fb1f073e24d6",
   "metadata": {},
   "outputs": [],
   "source": [
    "# Question 5 - Create a generator function for prime number less than 1000.Use the next()method to print the first 20 prime number ."
   ]
  },
  {
   "cell_type": "code",
   "execution_count": 15,
   "id": "d7d47367-389d-4bd0-a13c-acb58a021050",
   "metadata": {},
   "outputs": [],
   "source": [
    "#Answer\n",
    "def isPrime(n):\n",
    "    if n<2:\n",
    "        return False\n",
    "    for i in range(2,n):\n",
    "        if n%i == 0:\n",
    "            return False \n",
    "    return True     "
   ]
  },
  {
   "cell_type": "code",
   "execution_count": 16,
   "id": "ff2ce3db-117f-4742-a755-bd51bdfb06da",
   "metadata": {},
   "outputs": [
    {
     "name": "stdin",
     "output_type": "stream",
     "text": [
      "Enter minimum value :  2\n",
      "Enter maximum value :  1000\n"
     ]
    },
    {
     "name": "stdout",
     "output_type": "stream",
     "text": [
      "Prime number from 2 to 1000 are :\n",
      "2 3 5 7 11 13 17 19 23 29 31 37 41 43 47 53 59 61 67 71 73 79 83 89 97 101 103 107 109 113 127 131 137 139 149 151 157 163 167 173 179 181 191 193 197 199 211 223 227 229 233 239 241 251 257 263 269 271 277 281 283 293 307 311 313 317 331 337 347 349 353 359 367 373 379 383 389 397 401 409 419 421 431 433 439 443 449 457 461 463 467 479 487 491 499 503 509 521 523 541 547 557 563 569 571 577 587 593 599 601 607 613 617 619 631 641 643 647 653 659 661 673 677 683 691 701 709 719 727 733 739 743 751 757 761 769 773 787 797 809 811 821 823 827 829 839 853 857 859 863 877 881 883 887 907 911 919 929 937 941 947 953 967 971 977 983 991 997 "
     ]
    }
   ],
   "source": [
    "min_value = int(input(\"Enter minimum value : \"))\n",
    "max_value = int(input(\"Enter maximum value : \"))\n",
    "print(\"Prime number from %d to %d are :\" %(min_value,max_value))\n",
    "for i in range(min_value,max_value+1):\n",
    "    if isPrime(i):\n",
    "        print(i,end=\" \")"
   ]
  },
  {
   "cell_type": "code",
   "execution_count": 1,
   "id": "d1393fb6-24fd-4de3-84ee-b57837d436aa",
   "metadata": {},
   "outputs": [],
   "source": [
    "def is_prime(num):\n",
    "    if num <= 1:\n",
    "        return False \n",
    "    for i in  range(2,num):\n",
    "        if num % i == 0:\n",
    "            return False\n",
    "    return True   "
   ]
  },
  {
   "cell_type": "code",
   "execution_count": 2,
   "id": "f5699413-d8d3-4a80-bb23-7f7d940750c5",
   "metadata": {},
   "outputs": [],
   "source": [
    "def generate_primes():\n",
    "    num = 2\n",
    "    while True:\n",
    "        if is_prime(num):\n",
    "            yield num\n",
    "        num += 1    "
   ]
  },
  {
   "cell_type": "code",
   "execution_count": 3,
   "id": "7220ba7e-7670-4be0-93ef-8961aaa35ce3",
   "metadata": {},
   "outputs": [],
   "source": [
    "prime_generator = generate_primes()"
   ]
  },
  {
   "cell_type": "code",
   "execution_count": 4,
   "id": "5c489afe-fef8-4998-ba16-a89edfa33897",
   "metadata": {},
   "outputs": [
    {
     "name": "stdout",
     "output_type": "stream",
     "text": [
      "2\n",
      "3\n",
      "5\n",
      "7\n",
      "11\n",
      "13\n",
      "17\n",
      "19\n",
      "23\n",
      "29\n",
      "31\n",
      "37\n",
      "41\n",
      "43\n",
      "47\n",
      "53\n",
      "59\n",
      "61\n",
      "67\n",
      "71\n"
     ]
    }
   ],
   "source": [
    "for i in range(20):\n",
    "    print(next(prime_generator))"
   ]
  },
  {
   "cell_type": "code",
   "execution_count": 13,
   "id": "b497e25e-f3b5-470c-99ea-d2559e646a5e",
   "metadata": {},
   "outputs": [],
   "source": [
    "# Question 6 - Write a python program to print the first 10 Fibonacci numbers using a while loop"
   ]
  },
  {
   "cell_type": "code",
   "execution_count": 7,
   "id": "c52f3387-b0fa-4ba1-8e8d-ffb240179b2e",
   "metadata": {},
   "outputs": [
    {
     "name": "stdin",
     "output_type": "stream",
     "text": [
      "enter the number of element you are looking for  10\n"
     ]
    },
    {
     "name": "stdout",
     "output_type": "stream",
     "text": [
      "0\n",
      "1\n",
      "1\n",
      "2\n",
      "3\n",
      "5\n",
      "8\n",
      "13\n",
      "21\n",
      "34\n"
     ]
    }
   ],
   "source": [
    "# Answer\n",
    "number = int(input(\"enter the number of element you are looking for \"))\n",
    "a , b  = 0 , 1 \n",
    "counter = 0 \n",
    "while counter < number : \n",
    "    print(a)\n",
    "    c = a+ b\n",
    "    a = b \n",
    "    b = c \n",
    "    counter= counter+ 1\n",
    "    "
   ]
  },
  {
   "cell_type": "code",
   "execution_count": null,
   "id": "0a684591-f477-4993-a601-cb234e9d77ad",
   "metadata": {},
   "outputs": [],
   "source": [
    "# Question7 - Write a list Comprehension to iterate through the the given string : 'pwskills'"
   ]
  },
  {
   "cell_type": "code",
   "execution_count": 20,
   "id": "29fe7ade-ca6e-4402-8d07-34fe6d76a3b5",
   "metadata": {},
   "outputs": [
    {
     "name": "stdout",
     "output_type": "stream",
     "text": [
      "['p', 'w', 's', 'k', 'i', 'l', 'l', 's']\n"
     ]
    }
   ],
   "source": [
    "# Answer\n",
    "l =[]\n",
    "for character in 'pwskills':\n",
    "    l.append(character)\n",
    "print(l)    "
   ]
  },
  {
   "cell_type": "code",
   "execution_count": 21,
   "id": "12dbaa84-6bb7-4a37-ab26-b958aaf5c8d6",
   "metadata": {},
   "outputs": [],
   "source": [
    "# Question 8 - Write a python program to check a given number is Pallindrome or not or not using a while loop."
   ]
  },
  {
   "cell_type": "code",
   "execution_count": 27,
   "id": "652c15ca-6b56-421b-af6f-314fb51d6281",
   "metadata": {},
   "outputs": [
    {
     "name": "stdin",
     "output_type": "stream",
     "text": [
      "enter your number 1234\n"
     ]
    },
    {
     "name": "stdout",
     "output_type": "stream",
     "text": [
      "Not Palindrome\n"
     ]
    }
   ],
   "source": [
    "# Answer\n",
    "num = int(input(\"enter your number\"))\n",
    "reverse = int(str(number)[::-1])\n",
    "if num == reverse :\n",
    "    print('Palindrome')\n",
    "else :\n",
    "    print(\"Not Palindrome\")"
   ]
  },
  {
   "cell_type": "code",
   "execution_count": 28,
   "id": "c8f75909-10a1-4da8-a0d9-4fc22865320f",
   "metadata": {},
   "outputs": [],
   "source": [
    "# Question 9 - Write a code to print odd number from 1 to 100 using list comprehension."
   ]
  },
  {
   "cell_type": "code",
   "execution_count": 29,
   "id": "c3104a36-dfce-49a2-a259-b7ea64c35aa2",
   "metadata": {},
   "outputs": [],
   "source": [
    "#Answer\n",
    "l = list(range(1 ,101))"
   ]
  },
  {
   "cell_type": "code",
   "execution_count": 30,
   "id": "b9b94d20-f71a-4419-9ead-84307e2d8673",
   "metadata": {},
   "outputs": [
    {
     "data": {
      "text/plain": [
       "[1,\n",
       " 2,\n",
       " 3,\n",
       " 4,\n",
       " 5,\n",
       " 6,\n",
       " 7,\n",
       " 8,\n",
       " 9,\n",
       " 10,\n",
       " 11,\n",
       " 12,\n",
       " 13,\n",
       " 14,\n",
       " 15,\n",
       " 16,\n",
       " 17,\n",
       " 18,\n",
       " 19,\n",
       " 20,\n",
       " 21,\n",
       " 22,\n",
       " 23,\n",
       " 24,\n",
       " 25,\n",
       " 26,\n",
       " 27,\n",
       " 28,\n",
       " 29,\n",
       " 30,\n",
       " 31,\n",
       " 32,\n",
       " 33,\n",
       " 34,\n",
       " 35,\n",
       " 36,\n",
       " 37,\n",
       " 38,\n",
       " 39,\n",
       " 40,\n",
       " 41,\n",
       " 42,\n",
       " 43,\n",
       " 44,\n",
       " 45,\n",
       " 46,\n",
       " 47,\n",
       " 48,\n",
       " 49,\n",
       " 50,\n",
       " 51,\n",
       " 52,\n",
       " 53,\n",
       " 54,\n",
       " 55,\n",
       " 56,\n",
       " 57,\n",
       " 58,\n",
       " 59,\n",
       " 60,\n",
       " 61,\n",
       " 62,\n",
       " 63,\n",
       " 64,\n",
       " 65,\n",
       " 66,\n",
       " 67,\n",
       " 68,\n",
       " 69,\n",
       " 70,\n",
       " 71,\n",
       " 72,\n",
       " 73,\n",
       " 74,\n",
       " 75,\n",
       " 76,\n",
       " 77,\n",
       " 78,\n",
       " 79,\n",
       " 80,\n",
       " 81,\n",
       " 82,\n",
       " 83,\n",
       " 84,\n",
       " 85,\n",
       " 86,\n",
       " 87,\n",
       " 88,\n",
       " 89,\n",
       " 90,\n",
       " 91,\n",
       " 92,\n",
       " 93,\n",
       " 94,\n",
       " 95,\n",
       " 96,\n",
       " 97,\n",
       " 98,\n",
       " 99,\n",
       " 100]"
      ]
     },
     "execution_count": 30,
     "metadata": {},
     "output_type": "execute_result"
    }
   ],
   "source": [
    "l"
   ]
  },
  {
   "cell_type": "code",
   "execution_count": 31,
   "id": "6fb18afe-fe5e-48d2-b4e0-58263d0cd6b3",
   "metadata": {},
   "outputs": [
    {
     "data": {
      "text/plain": [
       "[1,\n",
       " 3,\n",
       " 5,\n",
       " 7,\n",
       " 9,\n",
       " 11,\n",
       " 13,\n",
       " 15,\n",
       " 17,\n",
       " 19,\n",
       " 21,\n",
       " 23,\n",
       " 25,\n",
       " 27,\n",
       " 29,\n",
       " 31,\n",
       " 33,\n",
       " 35,\n",
       " 37,\n",
       " 39,\n",
       " 41,\n",
       " 43,\n",
       " 45,\n",
       " 47,\n",
       " 49,\n",
       " 51,\n",
       " 53,\n",
       " 55,\n",
       " 57,\n",
       " 59,\n",
       " 61,\n",
       " 63,\n",
       " 65,\n",
       " 67,\n",
       " 69,\n",
       " 71,\n",
       " 73,\n",
       " 75,\n",
       " 77,\n",
       " 79,\n",
       " 81,\n",
       " 83,\n",
       " 85,\n",
       " 87,\n",
       " 89,\n",
       " 91,\n",
       " 93,\n",
       " 95,\n",
       " 97,\n",
       " 99]"
      ]
     },
     "execution_count": 31,
     "metadata": {},
     "output_type": "execute_result"
    }
   ],
   "source": [
    "[i for i in l if i % 2 != 0]"
   ]
  },
  {
   "cell_type": "code",
   "execution_count": null,
   "id": "f88680a7-5a3a-4868-b62f-ed6f5a75ce6c",
   "metadata": {},
   "outputs": [],
   "source": []
  }
 ],
 "metadata": {
  "kernelspec": {
   "display_name": "Python 3 (ipykernel)",
   "language": "python",
   "name": "python3"
  },
  "language_info": {
   "codemirror_mode": {
    "name": "ipython",
    "version": 3
   },
   "file_extension": ".py",
   "mimetype": "text/x-python",
   "name": "python",
   "nbconvert_exporter": "python",
   "pygments_lexer": "ipython3",
   "version": "3.10.8"
  }
 },
 "nbformat": 4,
 "nbformat_minor": 5
}
